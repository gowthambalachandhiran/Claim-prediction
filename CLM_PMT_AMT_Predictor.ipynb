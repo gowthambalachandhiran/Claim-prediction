{
 "cells": [
  {
   "cell_type": "code",
   "execution_count": 1,
   "metadata": {
    "collapsed": true
   },
   "outputs": [],
   "source": [
    "import numpy as np\n",
    "import pandas as pd\n",
    "import matplotlib.pyplot as plt\n",
    "import seaborn as sns\n",
    "import mpl_toolkits\n",
    "%matplotlib inline"
   ]
  },
  {
   "cell_type": "code",
   "execution_count": 2,
   "metadata": {
    "collapsed": true
   },
   "outputs": [],
   "source": [
    "data = pd.read_csv(\"CLM_PMT_AMT_Predictor.csv\")\n",
    "data_no_nan = data.fillna(0)\n",
    "data_no_nan = data_no_nan.fillna(0)"
   ]
  },
  {
   "cell_type": "code",
   "execution_count": 3,
   "metadata": {},
   "outputs": [
    {
     "data": {
      "text/html": [
       "<div>\n",
       "<style>\n",
       "    .dataframe thead tr:only-child th {\n",
       "        text-align: right;\n",
       "    }\n",
       "\n",
       "    .dataframe thead th {\n",
       "        text-align: left;\n",
       "    }\n",
       "\n",
       "    .dataframe tbody tr th {\n",
       "        vertical-align: top;\n",
       "    }\n",
       "</style>\n",
       "<table border=\"1\" class=\"dataframe\">\n",
       "  <thead>\n",
       "    <tr style=\"text-align: right;\">\n",
       "      <th></th>\n",
       "      <th>CLM_ID</th>\n",
       "      <th>NCH_PRMRY_PYR_CLM_PD_AMT</th>\n",
       "      <th>CLM_PASS_THRU_PER_DIEM_AMT</th>\n",
       "      <th>NCH_BENE_IP_DDCTBL_AMT</th>\n",
       "      <th>NCH_BENE_PTA_COINSRNC_LBLTY_AM</th>\n",
       "      <th>NCH_BENE_BLOOD_DDCTBL_LBLTY_AM</th>\n",
       "      <th>CLM_UTLZTN_DAY_CNT</th>\n",
       "      <th>CLM_YEAR_MONTH_CLM_FROM_DT_CAT</th>\n",
       "      <th>CLM_YEAR_MONTH_CLM_THRU_DT_CAT</th>\n",
       "      <th>NCH_BENE_DSCHRG_DT_YEAR_MONTH_CAT</th>\n",
       "      <th>ICD9_PRCDR_CD_1_CAT</th>\n",
       "      <th>ICD9_DGNS_CD_2_CAT</th>\n",
       "      <th>ICD9_DGNS_CD_3_CAT</th>\n",
       "      <th>DESYNPUF_ID_CAT</th>\n",
       "      <th>CLM_ADMSN_DT_CAT</th>\n",
       "      <th>CLM_PMT_AMT</th>\n",
       "    </tr>\n",
       "  </thead>\n",
       "  <tbody>\n",
       "    <tr>\n",
       "      <th>0</th>\n",
       "      <td>1.966610e+14</td>\n",
       "      <td>0</td>\n",
       "      <td>0</td>\n",
       "      <td>1100.0</td>\n",
       "      <td>0</td>\n",
       "      <td>0</td>\n",
       "      <td>1.0</td>\n",
       "      <td>28</td>\n",
       "      <td>26</td>\n",
       "      <td>26</td>\n",
       "      <td>-1</td>\n",
       "      <td>2120</td>\n",
       "      <td>2758</td>\n",
       "      <td>0</td>\n",
       "      <td>826</td>\n",
       "      <td>4000</td>\n",
       "    </tr>\n",
       "    <tr>\n",
       "      <th>1</th>\n",
       "      <td>1.962010e+14</td>\n",
       "      <td>0</td>\n",
       "      <td>0</td>\n",
       "      <td>1068.0</td>\n",
       "      <td>0</td>\n",
       "      <td>0</td>\n",
       "      <td>6.0</td>\n",
       "      <td>17</td>\n",
       "      <td>15</td>\n",
       "      <td>15</td>\n",
       "      <td>-1</td>\n",
       "      <td>892</td>\n",
       "      <td>1509</td>\n",
       "      <td>1</td>\n",
       "      <td>492</td>\n",
       "      <td>26000</td>\n",
       "    </tr>\n",
       "    <tr>\n",
       "      <th>2</th>\n",
       "      <td>1.966610e+14</td>\n",
       "      <td>0</td>\n",
       "      <td>0</td>\n",
       "      <td>1068.0</td>\n",
       "      <td>0</td>\n",
       "      <td>0</td>\n",
       "      <td>2.0</td>\n",
       "      <td>21</td>\n",
       "      <td>20</td>\n",
       "      <td>20</td>\n",
       "      <td>774</td>\n",
       "      <td>516</td>\n",
       "      <td>1407</td>\n",
       "      <td>1</td>\n",
       "      <td>633</td>\n",
       "      <td>5000</td>\n",
       "    </tr>\n",
       "    <tr>\n",
       "      <th>3</th>\n",
       "      <td>1.960910e+14</td>\n",
       "      <td>0</td>\n",
       "      <td>0</td>\n",
       "      <td>1068.0</td>\n",
       "      <td>0</td>\n",
       "      <td>0</td>\n",
       "      <td>3.0</td>\n",
       "      <td>22</td>\n",
       "      <td>20</td>\n",
       "      <td>20</td>\n",
       "      <td>-1</td>\n",
       "      <td>586</td>\n",
       "      <td>1768</td>\n",
       "      <td>1</td>\n",
       "      <td>650</td>\n",
       "      <td>5000</td>\n",
       "    </tr>\n",
       "    <tr>\n",
       "      <th>4</th>\n",
       "      <td>1.962610e+14</td>\n",
       "      <td>0</td>\n",
       "      <td>0</td>\n",
       "      <td>1100.0</td>\n",
       "      <td>0</td>\n",
       "      <td>0</td>\n",
       "      <td>5.0</td>\n",
       "      <td>31</td>\n",
       "      <td>30</td>\n",
       "      <td>30</td>\n",
       "      <td>-1</td>\n",
       "      <td>892</td>\n",
       "      <td>783</td>\n",
       "      <td>1</td>\n",
       "      <td>932</td>\n",
       "      <td>16000</td>\n",
       "    </tr>\n",
       "  </tbody>\n",
       "</table>\n",
       "</div>"
      ],
      "text/plain": [
       "         CLM_ID  NCH_PRMRY_PYR_CLM_PD_AMT  CLM_PASS_THRU_PER_DIEM_AMT  \\\n",
       "0  1.966610e+14                         0                           0   \n",
       "1  1.962010e+14                         0                           0   \n",
       "2  1.966610e+14                         0                           0   \n",
       "3  1.960910e+14                         0                           0   \n",
       "4  1.962610e+14                         0                           0   \n",
       "\n",
       "   NCH_BENE_IP_DDCTBL_AMT  NCH_BENE_PTA_COINSRNC_LBLTY_AM  \\\n",
       "0                  1100.0                               0   \n",
       "1                  1068.0                               0   \n",
       "2                  1068.0                               0   \n",
       "3                  1068.0                               0   \n",
       "4                  1100.0                               0   \n",
       "\n",
       "   NCH_BENE_BLOOD_DDCTBL_LBLTY_AM  CLM_UTLZTN_DAY_CNT  \\\n",
       "0                               0                 1.0   \n",
       "1                               0                 6.0   \n",
       "2                               0                 2.0   \n",
       "3                               0                 3.0   \n",
       "4                               0                 5.0   \n",
       "\n",
       "   CLM_YEAR_MONTH_CLM_FROM_DT_CAT  CLM_YEAR_MONTH_CLM_THRU_DT_CAT  \\\n",
       "0                              28                              26   \n",
       "1                              17                              15   \n",
       "2                              21                              20   \n",
       "3                              22                              20   \n",
       "4                              31                              30   \n",
       "\n",
       "   NCH_BENE_DSCHRG_DT_YEAR_MONTH_CAT  ICD9_PRCDR_CD_1_CAT  ICD9_DGNS_CD_2_CAT  \\\n",
       "0                                 26                   -1                2120   \n",
       "1                                 15                   -1                 892   \n",
       "2                                 20                  774                 516   \n",
       "3                                 20                   -1                 586   \n",
       "4                                 30                   -1                 892   \n",
       "\n",
       "   ICD9_DGNS_CD_3_CAT  DESYNPUF_ID_CAT  CLM_ADMSN_DT_CAT  CLM_PMT_AMT  \n",
       "0                2758                0               826         4000  \n",
       "1                1509                1               492        26000  \n",
       "2                1407                1               633         5000  \n",
       "3                1768                1               650         5000  \n",
       "4                 783                1               932        16000  "
      ]
     },
     "execution_count": 3,
     "metadata": {},
     "output_type": "execute_result"
    }
   ],
   "source": [
    "data_no_nan.head()"
   ]
  },
  {
   "cell_type": "code",
   "execution_count": 4,
   "metadata": {},
   "outputs": [
    {
     "data": {
      "text/plain": [
       "CLM_ID                               0\n",
       "NCH_PRMRY_PYR_CLM_PD_AMT             0\n",
       "CLM_PASS_THRU_PER_DIEM_AMT           0\n",
       "NCH_BENE_IP_DDCTBL_AMT               0\n",
       "NCH_BENE_PTA_COINSRNC_LBLTY_AM       0\n",
       "NCH_BENE_BLOOD_DDCTBL_LBLTY_AM       0\n",
       "CLM_UTLZTN_DAY_CNT                   0\n",
       "CLM_YEAR_MONTH_CLM_FROM_DT_CAT       0\n",
       "CLM_YEAR_MONTH_CLM_THRU_DT_CAT       0\n",
       "NCH_BENE_DSCHRG_DT_YEAR_MONTH_CAT    0\n",
       "ICD9_PRCDR_CD_1_CAT                  0\n",
       "ICD9_DGNS_CD_2_CAT                   0\n",
       "ICD9_DGNS_CD_3_CAT                   0\n",
       "DESYNPUF_ID_CAT                      0\n",
       "CLM_ADMSN_DT_CAT                     0\n",
       "CLM_PMT_AMT                          0\n",
       "dtype: int64"
      ]
     },
     "execution_count": 4,
     "metadata": {},
     "output_type": "execute_result"
    }
   ],
   "source": [
    "data_no_nan.isnull().sum()"
   ]
  },
  {
   "cell_type": "code",
   "execution_count": 5,
   "metadata": {
    "collapsed": true
   },
   "outputs": [],
   "source": [
    "train1 = data_no_nan.drop(['CLM_PMT_AMT'],axis=1)"
   ]
  },
  {
   "cell_type": "code",
   "execution_count": 8,
   "metadata": {
    "collapsed": true
   },
   "outputs": [],
   "source": [
    "from sklearn.linear_model import LinearRegression"
   ]
  },
  {
   "cell_type": "code",
   "execution_count": 9,
   "metadata": {
    "collapsed": true
   },
   "outputs": [],
   "source": [
    "labels = data_no_nan['CLM_PMT_AMT']"
   ]
  },
  {
   "cell_type": "code",
   "execution_count": 10,
   "metadata": {},
   "outputs": [],
   "source": [
    "from sklearn.cross_validation import train_test_split\n",
    "x_train , x_test , y_train , y_test = train_test_split(train1 , labels , test_size = 0.10,random_state =2)"
   ]
  },
  {
   "cell_type": "code",
   "execution_count": 11,
   "metadata": {},
   "outputs": [
    {
     "data": {
      "text/plain": [
       "LinearRegression(copy_X=True, fit_intercept=True, n_jobs=1, normalize=False)"
      ]
     },
     "execution_count": 11,
     "metadata": {},
     "output_type": "execute_result"
    }
   ],
   "source": [
    "reg = LinearRegression()\n",
    "reg.fit(x_train,y_train)"
   ]
  },
  {
   "cell_type": "code",
   "execution_count": 12,
   "metadata": {},
   "outputs": [
    {
     "data": {
      "text/plain": [
       "0.12131208997851552"
      ]
     },
     "execution_count": 12,
     "metadata": {},
     "output_type": "execute_result"
    }
   ],
   "source": [
    "reg.score(x_test,y_test)"
   ]
  },
  {
   "cell_type": "code",
   "execution_count": 35,
   "metadata": {
    "collapsed": true
   },
   "outputs": [],
   "source": [
    "from sklearn import ensemble\n",
    "params = {'n_estimators': 4000, 'max_depth': 5, 'min_samples_split':2,\n",
    "          'learning_rate': 0.01, 'loss': 'ls'}\n",
    "clf = ensemble.GradientBoostingRegressor(**params)"
   ]
  },
  {
   "cell_type": "code",
   "execution_count": 36,
   "metadata": {},
   "outputs": [
    {
     "data": {
      "text/plain": [
       "GradientBoostingRegressor(alpha=0.9, criterion='friedman_mse', init=None,\n",
       "             learning_rate=0.01, loss='ls', max_depth=5, max_features=None,\n",
       "             max_leaf_nodes=None, min_impurity_split=1e-07,\n",
       "             min_samples_leaf=1, min_samples_split=2,\n",
       "             min_weight_fraction_leaf=0.0, n_estimators=4000,\n",
       "             presort='auto', random_state=None, subsample=1.0, verbose=0,\n",
       "             warm_start=False)"
      ]
     },
     "execution_count": 36,
     "metadata": {},
     "output_type": "execute_result"
    }
   ],
   "source": [
    "clf.fit(x_train, y_train)"
   ]
  },
  {
   "cell_type": "code",
   "execution_count": 37,
   "metadata": {},
   "outputs": [
    {
     "data": {
      "text/plain": [
       "0.5021815576645059"
      ]
     },
     "execution_count": 37,
     "metadata": {},
     "output_type": "execute_result"
    }
   ],
   "source": [
    "clf.score(x_test,y_test)"
   ]
  },
  {
   "cell_type": "code",
   "execution_count": 48,
   "metadata": {
    "collapsed": true
   },
   "outputs": [],
   "source": [
    "y_pred = reg.predict(x_test)"
   ]
  },
  {
   "cell_type": "code",
   "execution_count": 49,
   "metadata": {
    "collapsed": true
   },
   "outputs": [],
   "source": [
    "y_pred = reg.predict(x_test)"
   ]
  },
  {
   "cell_type": "code",
   "execution_count": 50,
   "metadata": {},
   "outputs": [
    {
     "data": {
      "text/plain": [
       "array([  9736.06771633,  12311.99383841,   7276.42275304, ...,\n",
       "         8446.4192896 ,  13932.24214512,   8911.1796615 ])"
      ]
     },
     "execution_count": 50,
     "metadata": {},
     "output_type": "execute_result"
    }
   ],
   "source": [
    "y_pred"
   ]
  },
  {
   "cell_type": "code",
   "execution_count": 51,
   "metadata": {
    "collapsed": true
   },
   "outputs": [],
   "source": [
    "t_sc = np.zeros((params['n_estimators']),dtype=np.float64)"
   ]
  },
  {
   "cell_type": "code",
   "execution_count": 52,
   "metadata": {
    "collapsed": true
   },
   "outputs": [],
   "source": [
    "for i,y_pred in enumerate(clf.staged_predict(x_test)):\n",
    "    t_sc[i]=clf.loss_(y_test,y_pred)"
   ]
  },
  {
   "cell_type": "code",
   "execution_count": 53,
   "metadata": {
    "collapsed": true
   },
   "outputs": [],
   "source": [
    "testsc = np.arange((params['n_estimators']))+1"
   ]
  },
  {
   "cell_type": "code",
   "execution_count": 47,
   "metadata": {},
   "outputs": [
    {
     "data": {
      "image/png": "[encoded data removed]",
      "text/plain": [
       "<matplotlib.figure.Figure at 0xee049e8>"
      ]
     },
     "metadata": {},
     "output_type": "display_data"
    }
   ],
   "source": [
    "plt.figure(figsize=(12, 6))\n",
    "plt.subplot(1, 2, 1)\n",
    "plt.plot(testsc,clf.train_score_,'b-',label= 'Set dev train')\n",
    "plt.title(\"Training Loss(red) vs Testing Loss(Blue)\")\n",
    "plt.plot(testsc,t_sc,'r-',label = 'set dev test')\n",
    "plt.show()"
   ]
  },
  {
   "cell_type": "code",
   "execution_count": 54,
   "metadata": {
    "collapsed": true
   },
   "outputs": [],
   "source": [
    "import pickle"
   ]
  },
  {
   "cell_type": "code",
   "execution_count": 55,
   "metadata": {
    "collapsed": true
   },
   "outputs": [],
   "source": [
    "from sklearn.externals import joblib"
   ]
  },
  {
   "cell_type": "code",
   "execution_count": 56,
   "metadata": {},
   "outputs": [
    {
     "data": {
      "text/plain": [
       "['CLM_PMT_AMT_Predictor.pkl']"
      ]
     },
     "execution_count": 56,
     "metadata": {},
     "output_type": "execute_result"
    }
   ],
   "source": [
    "joblib.dump(clf, 'CLM_PMT_AMT_Predictor.pkl') "
   ]
  },
  {
   "cell_type": "code",
   "execution_count": 65,
   "metadata": {},
   "outputs": [],
   "source": [
    "new_pred = clf.predict(np.array([[1.97E+14,0,0,1100,0,0,1,28,26,26,-1,2120,2758,0,826]]))"
   ]
  },
  {
   "cell_type": "code",
   "execution_count": 67,
   "metadata": {},
   "outputs": [
    {
     "data": {
      "text/plain": [
       "array([ 3611.32044177])"
      ]
     },
     "execution_count": 67,
     "metadata": {},
     "output_type": "execute_result"
    }
   ],
   "source": [
    "new_pred"
   ]
  },
  {
   "cell_type": "code",
   "execution_count": 68,
   "metadata": {
    "collapsed": true
   },
   "outputs": [],
   "source": [
    " clf = joblib.load('CLM_PMT_AMT_Predictor.pkl') "
   ]
  },
  {
   "cell_type": "code",
   "execution_count": 72,
   "metadata": {
    "collapsed": true
   },
   "outputs": [],
   "source": [
    "new_pred = clf.predict(np.array([[1.96E+14,0,0,1068,0,0,6,17,15,15,-1,892,1509,1,492]]))"
   ]
  },
  {
   "cell_type": "code",
   "execution_count": 73,
   "metadata": {},
   "outputs": [
    {
     "data": {
      "text/plain": [
       "22726.0"
      ]
     },
     "execution_count": 73,
     "metadata": {},
     "output_type": "execute_result"
    }
   ],
   "source": [
    "round(new_pred[0])"
   ]
  },
  {
   "cell_type": "code",
   "execution_count": null,
   "metadata": {
    "collapsed": true
   },
   "outputs": [],
   "source": []
  }
 ],
 "metadata": {
  "kernelspec": {
   "display_name": "Python 3",
   "language": "python",
   "name": "python3"
  },
  "language_info": {
   "codemirror_mode": {
    "name": "ipython",
    "version": 3
   },
   "file_extension": ".py",
   "mimetype": "text/x-python",
   "name": "python",
   "nbconvert_exporter": "python",
   "pygments_lexer": "ipython3",
   "version": "3.6.1"
  }
 },
 "nbformat": 4,
 "nbformat_minor": 2
}
