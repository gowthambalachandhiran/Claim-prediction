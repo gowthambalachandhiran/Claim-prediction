{
 "cells": [
  {
   "cell_type": "code",
   "execution_count": 81,
   "metadata": {
    "collapsed": true
   },
   "outputs": [],
   "source": [
    "import numpy as np\n",
    "import pandas as pd\n",
    "import matplotlib.pyplot as plt\n",
    "import seaborn as sns\n",
    "import mpl_toolkits\n",
    "%matplotlib inline"
   ]
  },
  {
   "cell_type": "code",
   "execution_count": 82,
   "metadata": {
    "collapsed": true
   },
   "outputs": [],
   "source": [
    "data = pd.read_csv(\"C://Users//WELCOME//Desktop//SCIO-images//NCH_BENE_IP_DDCTBL_AMT_PREDICTOR.csv\")\n",
    "data_no_nan = data.fillna(0)\n",
    "data_no_nan = data_no_nan.fillna(0)"
   ]
  },
  {
   "cell_type": "code",
   "execution_count": 83,
   "metadata": {},
   "outputs": [
    {
     "data": {
      "text/html": [
       "<div>\n",
       "<style>\n",
       "    .dataframe thead tr:only-child th {\n",
       "        text-align: right;\n",
       "    }\n",
       "\n",
       "    .dataframe thead th {\n",
       "        text-align: left;\n",
       "    }\n",
       "\n",
       "    .dataframe tbody tr th {\n",
       "        vertical-align: top;\n",
       "    }\n",
       "</style>\n",
       "<table border=\"1\" class=\"dataframe\">\n",
       "  <thead>\n",
       "    <tr style=\"text-align: right;\">\n",
       "      <th></th>\n",
       "      <th>CLM_ID</th>\n",
       "      <th>CLM_PMT_AMT</th>\n",
       "      <th>CLM_PASS_THRU_PER_DIEM_AMT</th>\n",
       "      <th>CLM_UTLZTN_DAY_CNT</th>\n",
       "      <th>CLM_YEAR_MONTH_CLM_FROM_DT_CAT</th>\n",
       "      <th>CLM_YEAR_MONTH_CLM_THRU_DT_CAT</th>\n",
       "      <th>NCH_BENE_DSCHRG_DT_YEAR_MONTH_CAT</th>\n",
       "      <th>ICD9_DGNS_CD_1_CAT</th>\n",
       "      <th>ICD9_PRCDR_CD_2_CAT</th>\n",
       "      <th>ICD9_DGNS_CD_3_CAT</th>\n",
       "      <th>CLM_ADMSN_DT_CAT</th>\n",
       "      <th>NCH_BENE_IP_DDCTBL_AMT</th>\n",
       "    </tr>\n",
       "  </thead>\n",
       "  <tbody>\n",
       "    <tr>\n",
       "      <th>0</th>\n",
       "      <td>1.970000e+14</td>\n",
       "      <td>4000.0</td>\n",
       "      <td>0.0</td>\n",
       "      <td>1.0</td>\n",
       "      <td>28.0</td>\n",
       "      <td>26.0</td>\n",
       "      <td>26.0</td>\n",
       "      <td>2074.0</td>\n",
       "      <td>2074.0</td>\n",
       "      <td>2758.0</td>\n",
       "      <td>826.0</td>\n",
       "      <td>1100.0</td>\n",
       "    </tr>\n",
       "    <tr>\n",
       "      <th>1</th>\n",
       "      <td>1.960000e+14</td>\n",
       "      <td>26000.0</td>\n",
       "      <td>0.0</td>\n",
       "      <td>6.0</td>\n",
       "      <td>17.0</td>\n",
       "      <td>15.0</td>\n",
       "      <td>15.0</td>\n",
       "      <td>263.0</td>\n",
       "      <td>263.0</td>\n",
       "      <td>1509.0</td>\n",
       "      <td>492.0</td>\n",
       "      <td>1068.0</td>\n",
       "    </tr>\n",
       "    <tr>\n",
       "      <th>2</th>\n",
       "      <td>1.970000e+14</td>\n",
       "      <td>5000.0</td>\n",
       "      <td>0.0</td>\n",
       "      <td>2.0</td>\n",
       "      <td>21.0</td>\n",
       "      <td>20.0</td>\n",
       "      <td>20.0</td>\n",
       "      <td>1702.0</td>\n",
       "      <td>1702.0</td>\n",
       "      <td>1407.0</td>\n",
       "      <td>633.0</td>\n",
       "      <td>1068.0</td>\n",
       "    </tr>\n",
       "    <tr>\n",
       "      <th>3</th>\n",
       "      <td>1.960000e+14</td>\n",
       "      <td>5000.0</td>\n",
       "      <td>0.0</td>\n",
       "      <td>3.0</td>\n",
       "      <td>22.0</td>\n",
       "      <td>20.0</td>\n",
       "      <td>20.0</td>\n",
       "      <td>653.0</td>\n",
       "      <td>653.0</td>\n",
       "      <td>1768.0</td>\n",
       "      <td>650.0</td>\n",
       "      <td>1068.0</td>\n",
       "    </tr>\n",
       "    <tr>\n",
       "      <th>4</th>\n",
       "      <td>1.960000e+14</td>\n",
       "      <td>16000.0</td>\n",
       "      <td>0.0</td>\n",
       "      <td>5.0</td>\n",
       "      <td>31.0</td>\n",
       "      <td>30.0</td>\n",
       "      <td>30.0</td>\n",
       "      <td>873.0</td>\n",
       "      <td>873.0</td>\n",
       "      <td>783.0</td>\n",
       "      <td>932.0</td>\n",
       "      <td>1100.0</td>\n",
       "    </tr>\n",
       "  </tbody>\n",
       "</table>\n",
       "</div>"
      ],
      "text/plain": [
       "         CLM_ID  CLM_PMT_AMT  CLM_PASS_THRU_PER_DIEM_AMT  CLM_UTLZTN_DAY_CNT  \\\n",
       "0  1.970000e+14       4000.0                         0.0                 1.0   \n",
       "1  1.960000e+14      26000.0                         0.0                 6.0   \n",
       "2  1.970000e+14       5000.0                         0.0                 2.0   \n",
       "3  1.960000e+14       5000.0                         0.0                 3.0   \n",
       "4  1.960000e+14      16000.0                         0.0                 5.0   \n",
       "\n",
       "   CLM_YEAR_MONTH_CLM_FROM_DT_CAT  CLM_YEAR_MONTH_CLM_THRU_DT_CAT  \\\n",
       "0                            28.0                            26.0   \n",
       "1                            17.0                            15.0   \n",
       "2                            21.0                            20.0   \n",
       "3                            22.0                            20.0   \n",
       "4                            31.0                            30.0   \n",
       "\n",
       "   NCH_BENE_DSCHRG_DT_YEAR_MONTH_CAT  ICD9_DGNS_CD_1_CAT  ICD9_PRCDR_CD_2_CAT  \\\n",
       "0                               26.0              2074.0               2074.0   \n",
       "1                               15.0               263.0                263.0   \n",
       "2                               20.0              1702.0               1702.0   \n",
       "3                               20.0               653.0                653.0   \n",
       "4                               30.0               873.0                873.0   \n",
       "\n",
       "   ICD9_DGNS_CD_3_CAT  CLM_ADMSN_DT_CAT  NCH_BENE_IP_DDCTBL_AMT  \n",
       "0              2758.0             826.0                  1100.0  \n",
       "1              1509.0             492.0                  1068.0  \n",
       "2              1407.0             633.0                  1068.0  \n",
       "3              1768.0             650.0                  1068.0  \n",
       "4               783.0             932.0                  1100.0  "
      ]
     },
     "execution_count": 83,
     "metadata": {},
     "output_type": "execute_result"
    }
   ],
   "source": [
    "data_no_nan.head()"
   ]
  },
  {
   "cell_type": "code",
   "execution_count": 84,
   "metadata": {},
   "outputs": [
    {
     "data": {
      "text/plain": [
       "CLM_ID                               0\n",
       "CLM_PMT_AMT                          0\n",
       "CLM_PASS_THRU_PER_DIEM_AMT           0\n",
       "CLM_UTLZTN_DAY_CNT                   0\n",
       "CLM_YEAR_MONTH_CLM_FROM_DT_CAT       0\n",
       "CLM_YEAR_MONTH_CLM_THRU_DT_CAT       0\n",
       "NCH_BENE_DSCHRG_DT_YEAR_MONTH_CAT    0\n",
       "ICD9_DGNS_CD_1_CAT                   0\n",
       "ICD9_PRCDR_CD_2_CAT                  0\n",
       "ICD9_DGNS_CD_3_CAT                   0\n",
       "CLM_ADMSN_DT_CAT                     0\n",
       "NCH_BENE_IP_DDCTBL_AMT               0\n",
       "dtype: int64"
      ]
     },
     "execution_count": 84,
     "metadata": {},
     "output_type": "execute_result"
    }
   ],
   "source": [
    "data_no_nan.isnull().sum()"
   ]
  },
  {
   "cell_type": "code",
   "execution_count": 85,
   "metadata": {
    "collapsed": true
   },
   "outputs": [],
   "source": [
    "train1 = data_no_nan.drop(['NCH_BENE_IP_DDCTBL_AMT'],axis=1)"
   ]
  },
  {
   "cell_type": "code",
   "execution_count": 86,
   "metadata": {
    "collapsed": true
   },
   "outputs": [],
   "source": [
    "from sklearn.linear_model import LinearRegression"
   ]
  },
  {
   "cell_type": "code",
   "execution_count": 87,
   "metadata": {
    "collapsed": true
   },
   "outputs": [],
   "source": [
    "labels = data_no_nan['NCH_BENE_IP_DDCTBL_AMT']"
   ]
  },
  {
   "cell_type": "code",
   "execution_count": 88,
   "metadata": {},
   "outputs": [],
   "source": [
    "from sklearn.cross_validation import train_test_split"
   ]
  },
  {
   "cell_type": "code",
   "execution_count": 89,
   "metadata": {},
   "outputs": [],
   "source": [
    "x_train , x_test , y_train , y_test = train_test_split(train1 , labels , test_size = 0.10,random_state =2)\n",
    "# from sklearn.preprocessing import StandardScaler\n",
    "# sc = StandardScaler()\n",
    "# x_train = sc.fit_transform(x_train)\n",
    "# x_test = sc.transform(x_test)"
   ]
  },
  {
   "cell_type": "code",
   "execution_count": 90,
   "metadata": {},
   "outputs": [
    {
     "data": {
      "text/plain": [
       "LinearRegression(copy_X=True, fit_intercept=True, n_jobs=1, normalize=False)"
      ]
     },
     "execution_count": 90,
     "metadata": {},
     "output_type": "execute_result"
    }
   ],
   "source": [
    "reg = LinearRegression()\n",
    "reg.fit(x_train,y_train)"
   ]
  },
  {
   "cell_type": "code",
   "execution_count": 91,
   "metadata": {},
   "outputs": [
    {
     "data": {
      "text/plain": [
       "0.93443428263056905"
      ]
     },
     "execution_count": 91,
     "metadata": {},
     "output_type": "execute_result"
    }
   ],
   "source": [
    "reg.score(x_test,y_test)"
   ]
  },
  {
   "cell_type": "code",
   "execution_count": 140,
   "metadata": {
    "collapsed": true
   },
   "outputs": [],
   "source": [
    "from sklearn import ensemble\n",
    "params = {'n_estimators': 100, 'max_depth': 2, 'min_samples_split': 4,\n",
    "          'learning_rate': 0.01, 'loss': 'ls'}\n",
    "clf = ensemble.GradientBoostingRegressor(**params)"
   ]
  },
  {
   "cell_type": "code",
   "execution_count": 141,
   "metadata": {},
   "outputs": [
    {
     "data": {
      "text/plain": [
       "GradientBoostingRegressor(alpha=0.9, criterion='friedman_mse', init=None,\n",
       "             learning_rate=0.01, loss='ls', max_depth=2, max_features=None,\n",
       "             max_leaf_nodes=None, min_impurity_split=1e-07,\n",
       "             min_samples_leaf=1, min_samples_split=4,\n",
       "             min_weight_fraction_leaf=0.0, n_estimators=100,\n",
       "             presort='auto', random_state=None, subsample=1.0, verbose=0,\n",
       "             warm_start=False)"
      ]
     },
     "execution_count": 141,
     "metadata": {},
     "output_type": "execute_result"
    }
   ],
   "source": [
    "clf.fit(x_train, y_train)"
   ]
  },
  {
   "cell_type": "code",
   "execution_count": 142,
   "metadata": {},
   "outputs": [
    {
     "data": {
      "text/plain": [
       "0.82843922745786591"
      ]
     },
     "execution_count": 142,
     "metadata": {},
     "output_type": "execute_result"
    }
   ],
   "source": [
    "clf.score(x_test,y_test)"
   ]
  },
  {
   "cell_type": "code",
   "execution_count": 143,
   "metadata": {
    "collapsed": true
   },
   "outputs": [],
   "source": [
    "y_pred = reg.predict(x_test)"
   ]
  },
  {
   "cell_type": "code",
   "execution_count": 144,
   "metadata": {},
   "outputs": [
    {
     "data": {
      "text/plain": [
       "array([ 1041.20088335,  1065.76994519,  1078.59928637, ...,  1070.62606829,\n",
       "        1029.4036199 ,  1063.32633487])"
      ]
     },
     "execution_count": 144,
     "metadata": {},
     "output_type": "execute_result"
    }
   ],
   "source": [
    "y_pred"
   ]
  },
  {
   "cell_type": "code",
   "execution_count": 145,
   "metadata": {},
   "outputs": [
    {
     "data": {
      "text/html": [
       "<div>\n",
       "<style>\n",
       "    .dataframe thead tr:only-child th {\n",
       "        text-align: right;\n",
       "    }\n",
       "\n",
       "    .dataframe thead th {\n",
       "        text-align: left;\n",
       "    }\n",
       "\n",
       "    .dataframe tbody tr th {\n",
       "        vertical-align: top;\n",
       "    }\n",
       "</style>\n",
       "<table border=\"1\" class=\"dataframe\">\n",
       "  <thead>\n",
       "    <tr style=\"text-align: right;\">\n",
       "      <th></th>\n",
       "      <th>CLM_ID</th>\n",
       "      <th>CLM_PMT_AMT</th>\n",
       "      <th>CLM_PASS_THRU_PER_DIEM_AMT</th>\n",
       "      <th>CLM_UTLZTN_DAY_CNT</th>\n",
       "      <th>CLM_YEAR_MONTH_CLM_FROM_DT_CAT</th>\n",
       "      <th>CLM_YEAR_MONTH_CLM_THRU_DT_CAT</th>\n",
       "      <th>NCH_BENE_DSCHRG_DT_YEAR_MONTH_CAT</th>\n",
       "      <th>ICD9_DGNS_CD_1_CAT</th>\n",
       "      <th>ICD9_PRCDR_CD_2_CAT</th>\n",
       "      <th>ICD9_DGNS_CD_3_CAT</th>\n",
       "      <th>CLM_ADMSN_DT_CAT</th>\n",
       "      <th>NCH_BENE_IP_DDCTBL_AMT</th>\n",
       "    </tr>\n",
       "  </thead>\n",
       "  <tbody>\n",
       "    <tr>\n",
       "      <th>0</th>\n",
       "      <td>1.970000e+14</td>\n",
       "      <td>4000.0</td>\n",
       "      <td>0.0</td>\n",
       "      <td>1.0</td>\n",
       "      <td>28.0</td>\n",
       "      <td>26.0</td>\n",
       "      <td>26.0</td>\n",
       "      <td>2074.0</td>\n",
       "      <td>2074.0</td>\n",
       "      <td>2758.0</td>\n",
       "      <td>826.0</td>\n",
       "      <td>1100.0</td>\n",
       "    </tr>\n",
       "  </tbody>\n",
       "</table>\n",
       "</div>"
      ],
      "text/plain": [
       "         CLM_ID  CLM_PMT_AMT  CLM_PASS_THRU_PER_DIEM_AMT  CLM_UTLZTN_DAY_CNT  \\\n",
       "0  1.970000e+14       4000.0                         0.0                 1.0   \n",
       "\n",
       "   CLM_YEAR_MONTH_CLM_FROM_DT_CAT  CLM_YEAR_MONTH_CLM_THRU_DT_CAT  \\\n",
       "0                            28.0                            26.0   \n",
       "\n",
       "   NCH_BENE_DSCHRG_DT_YEAR_MONTH_CAT  ICD9_DGNS_CD_1_CAT  ICD9_PRCDR_CD_2_CAT  \\\n",
       "0                               26.0              2074.0               2074.0   \n",
       "\n",
       "   ICD9_DGNS_CD_3_CAT  CLM_ADMSN_DT_CAT  NCH_BENE_IP_DDCTBL_AMT  \n",
       "0              2758.0             826.0                  1100.0  "
      ]
     },
     "execution_count": 145,
     "metadata": {},
     "output_type": "execute_result"
    }
   ],
   "source": [
    "data_no_nan.head(1)"
   ]
  },
  {
   "cell_type": "code",
   "execution_count": 146,
   "metadata": {
    "collapsed": true
   },
   "outputs": [],
   "source": [
    "new_pred = reg.predict(np.array([[1.970000e+14,260000,3,6,17,15,15,263,263,1509,492]]))"
   ]
  },
  {
   "cell_type": "code",
   "execution_count": 147,
   "metadata": {},
   "outputs": [
    {
     "data": {
      "text/plain": [
       "array([ 1061.71889064])"
      ]
     },
     "execution_count": 147,
     "metadata": {},
     "output_type": "execute_result"
    }
   ],
   "source": [
    "new_pred"
   ]
  },
  {
   "cell_type": "code",
   "execution_count": 148,
   "metadata": {
    "collapsed": true
   },
   "outputs": [],
   "source": [
    "t_sc = np.zeros((params['n_estimators']),dtype=np.float64)"
   ]
  },
  {
   "cell_type": "code",
   "execution_count": 149,
   "metadata": {
    "collapsed": true
   },
   "outputs": [],
   "source": [
    "y_pred = reg.predict(x_test)"
   ]
  },
  {
   "cell_type": "code",
   "execution_count": 150,
   "metadata": {
    "collapsed": true
   },
   "outputs": [],
   "source": [
    "for i,y_pred in enumerate(clf.staged_predict(x_test)):\n",
    "    t_sc[i]=clf.loss_(y_test,y_pred)"
   ]
  },
  {
   "cell_type": "code",
   "execution_count": 151,
   "metadata": {
    "collapsed": true
   },
   "outputs": [],
   "source": [
    "testsc = np.arange((params['n_estimators']))+1"
   ]
  },
  {
   "cell_type": "code",
   "execution_count": 152,
   "metadata": {},
   "outputs": [
    {
     "data": {
      "image/png": "[encoded data removed]",
      "text/plain": [
       "<matplotlib.figure.Figure at 0x7ba40b8>"
      ]
     },
     "metadata": {},
     "output_type": "display_data"
    }
   ],
   "source": [
    "plt.figure(figsize=(12, 6))\n",
    "plt.subplot(1, 2, 1)\n",
    "plt.plot(testsc,clf.train_score_,'b-',label= 'Set dev train')\n",
    "plt.title(\"Training loss-Red vs Testing loss-Blue\")\n",
    "plt.plot(testsc,t_sc,'r-',label = 'set dev test')\n",
    "plt.show()"
   ]
  },
  {
   "cell_type": "code",
   "execution_count": 153,
   "metadata": {},
   "outputs": [
    {
     "data": {
      "text/plain": [
       "1061.7188906423241"
      ]
     },
     "execution_count": 153,
     "metadata": {},
     "output_type": "execute_result"
    }
   ],
   "source": [
    "new_pred[0]"
   ]
  },
  {
   "cell_type": "code",
   "execution_count": 154,
   "metadata": {},
   "outputs": [
    {
     "data": {
      "text/plain": [
       "array([ 1037.82249942,  1065.13608542,  1065.13608542, ...,  1065.13608542,\n",
       "        1037.82249942,  1065.13608542])"
      ]
     },
     "execution_count": 154,
     "metadata": {},
     "output_type": "execute_result"
    }
   ],
   "source": [
    "y_pred"
   ]
  },
  {
   "cell_type": "code",
   "execution_count": 156,
   "metadata": {},
   "outputs": [],
   "source": [
    "from sklearn.externals import joblib\n",
    "clf = joblib.load('SCIO-NCH_BENE_IP_DDCTBL_AMT_PREDICTOR.pkl')"
   ]
  },
  {
   "cell_type": "code",
   "execution_count": 158,
   "metadata": {},
   "outputs": [],
   "source": [
    "prediction = clf.predict(np.array([[1.970000e+14,260000,3,6,17,15,15,263,263,1509,492]]))"
   ]
  },
  {
   "cell_type": "code",
   "execution_count": 162,
   "metadata": {},
   "outputs": [
    {
     "data": {
      "text/plain": [
       "1068.0"
      ]
     },
     "execution_count": 162,
     "metadata": {},
     "output_type": "execute_result"
    }
   ],
   "source": [
    "round(prediction[0])"
   ]
  },
  {
   "cell_type": "code",
   "execution_count": 164,
   "metadata": {},
   "outputs": [],
   "source": [
    "prediction = clf.predict(np.array([[1.970000e+14,260000,3,6,17,15,15,263,263,1509,492]]))"
   ]
  },
  {
   "cell_type": "code",
   "execution_count": 165,
   "metadata": {},
   "outputs": [
    {
     "data": {
      "text/plain": [
       "1068.0"
      ]
     },
     "execution_count": 165,
     "metadata": {},
     "output_type": "execute_result"
    }
   ],
   "source": [
    "round(prediction[0])"
   ]
  },
  {
   "cell_type": "code",
   "execution_count": null,
   "metadata": {
    "collapsed": true
   },
   "outputs": [],
   "source": []
  }
 ],
 "metadata": {
  "kernelspec": {
   "display_name": "Python 3",
   "language": "python",
   "name": "python3"
  },
  "language_info": {
   "codemirror_mode": {
    "name": "ipython",
    "version": 3
   },
   "file_extension": ".py",
   "mimetype": "text/x-python",
   "name": "python",
   "nbconvert_exporter": "python",
   "pygments_lexer": "ipython3",
   "version": "3.6.1"
  }
 },
 "nbformat": 4,
 "nbformat_minor": 2
}
